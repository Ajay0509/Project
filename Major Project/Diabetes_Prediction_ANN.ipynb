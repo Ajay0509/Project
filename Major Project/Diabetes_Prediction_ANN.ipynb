{
 "cells": [
  {
   "cell_type": "code",
   "execution_count": 33,
   "metadata": {},
   "outputs": [
    {
     "data": {
      "text/html": [
       "<div>\n",
       "<style scoped>\n",
       "    .dataframe tbody tr th:only-of-type {\n",
       "        vertical-align: middle;\n",
       "    }\n",
       "\n",
       "    .dataframe tbody tr th {\n",
       "        vertical-align: top;\n",
       "    }\n",
       "\n",
       "    .dataframe thead th {\n",
       "        text-align: right;\n",
       "    }\n",
       "</style>\n",
       "<table border=\"1\" class=\"dataframe\">\n",
       "  <thead>\n",
       "    <tr style=\"text-align: right;\">\n",
       "      <th></th>\n",
       "      <th>Pregnancies</th>\n",
       "      <th>Glucose</th>\n",
       "      <th>BloodPressure</th>\n",
       "      <th>SkinThickness</th>\n",
       "      <th>Insulin</th>\n",
       "      <th>BMI</th>\n",
       "      <th>DiabetesPedigreeFunction</th>\n",
       "      <th>Age</th>\n",
       "      <th>Outcome</th>\n",
       "    </tr>\n",
       "  </thead>\n",
       "  <tbody>\n",
       "    <tr>\n",
       "      <th>0</th>\n",
       "      <td>6</td>\n",
       "      <td>148</td>\n",
       "      <td>72</td>\n",
       "      <td>35</td>\n",
       "      <td>0</td>\n",
       "      <td>33.6</td>\n",
       "      <td>0.627</td>\n",
       "      <td>50</td>\n",
       "      <td>1</td>\n",
       "    </tr>\n",
       "    <tr>\n",
       "      <th>1</th>\n",
       "      <td>1</td>\n",
       "      <td>85</td>\n",
       "      <td>66</td>\n",
       "      <td>29</td>\n",
       "      <td>0</td>\n",
       "      <td>26.6</td>\n",
       "      <td>0.351</td>\n",
       "      <td>31</td>\n",
       "      <td>0</td>\n",
       "    </tr>\n",
       "    <tr>\n",
       "      <th>2</th>\n",
       "      <td>8</td>\n",
       "      <td>183</td>\n",
       "      <td>64</td>\n",
       "      <td>0</td>\n",
       "      <td>0</td>\n",
       "      <td>23.3</td>\n",
       "      <td>0.672</td>\n",
       "      <td>32</td>\n",
       "      <td>1</td>\n",
       "    </tr>\n",
       "    <tr>\n",
       "      <th>3</th>\n",
       "      <td>1</td>\n",
       "      <td>89</td>\n",
       "      <td>66</td>\n",
       "      <td>23</td>\n",
       "      <td>94</td>\n",
       "      <td>28.1</td>\n",
       "      <td>0.167</td>\n",
       "      <td>21</td>\n",
       "      <td>0</td>\n",
       "    </tr>\n",
       "    <tr>\n",
       "      <th>4</th>\n",
       "      <td>0</td>\n",
       "      <td>137</td>\n",
       "      <td>40</td>\n",
       "      <td>35</td>\n",
       "      <td>168</td>\n",
       "      <td>43.1</td>\n",
       "      <td>2.288</td>\n",
       "      <td>33</td>\n",
       "      <td>1</td>\n",
       "    </tr>\n",
       "  </tbody>\n",
       "</table>\n",
       "</div>"
      ],
      "text/plain": [
       "   Pregnancies  Glucose  BloodPressure  SkinThickness  Insulin   BMI  \\\n",
       "0            6      148             72             35        0  33.6   \n",
       "1            1       85             66             29        0  26.6   \n",
       "2            8      183             64              0        0  23.3   \n",
       "3            1       89             66             23       94  28.1   \n",
       "4            0      137             40             35      168  43.1   \n",
       "\n",
       "   DiabetesPedigreeFunction  Age  Outcome  \n",
       "0                     0.627   50        1  \n",
       "1                     0.351   31        0  \n",
       "2                     0.672   32        1  \n",
       "3                     0.167   21        0  \n",
       "4                     2.288   33        1  "
      ]
     },
     "execution_count": 33,
     "metadata": {},
     "output_type": "execute_result"
    }
   ],
   "source": [
    "import pandas as pd\n",
    "\n",
    "import seaborn as sns\n",
    "\n",
    "import numpy as np\n",
    "\n",
    "import torch                      # Libraries from Pytorch\n",
    "\n",
    "import torch.nn as nn\n",
    "\n",
    "import torch.nn.functional as F\n",
    "\n",
    "df=pd.read_csv('D:\\\\Academics\\\\8th Sem\\\\diabetes.csv')\n",
    "\n",
    "df.head()"
   ]
  },
  {
   "cell_type": "code",
   "execution_count": 34,
   "metadata": {},
   "outputs": [],
   "source": [
    "#Data Cleaning is performed to replace 0 values with statistical measures\n",
    "\n",
    "filt=(df['Outcome']==0) & (df['Insulin']!=0)\n",
    "\n",
    "ins_med_0=df.loc[filt].median()\n",
    "\n",
    "df.loc[((df.Insulin==0) & (df.Outcome==0)) ,'Insulin']=130.2\n",
    "\n",
    "\n",
    "filt=(df['Outcome']==1) & (df['Insulin']!=0)\n",
    "\n",
    "ins_med_1=df.loc[filt].median()\n",
    "\n",
    "df.loc[((df.Insulin==0) & (df.Outcome==1)) ,'Insulin']=206.8\n",
    "\n",
    "\n",
    "filt=(df['Outcome']==0) & (df['Glucose']!=0)\n",
    "\n",
    "glu_med_0=df.loc[filt].mean()\n",
    "\n",
    "df.loc[((df.Glucose==0) & (df.Outcome==0)) ,'Glucose']=110.0\n",
    "\n",
    "filt=(df['Outcome']==1) & (df['Glucose']!=0)\n",
    "\n",
    "glu_med_1=df.loc[filt].mean()\n",
    "\n",
    "df.loc[((df.Glucose==0) & (df.Outcome==1)) ,'Glucose']=142.3\n",
    "\n",
    "\n",
    "filt=(df['Outcome']==0) & (df['SkinThickness']!=0)\n",
    "\n",
    "sk_med_0=df.loc[filt].mean()\n",
    "\n",
    "df.loc[((df.SkinThickness==0) & (df.Outcome==0)) ,'SkinThickness']=27.0\n",
    "\n",
    "filt=(df['Outcome']==1) & (df['SkinThickness']!=0)\n",
    "\n",
    "sk_med_1=df.loc[filt].mean()\n",
    "\n",
    "df.loc[((df.SkinThickness==0) & (df.Outcome==1)) ,'SkinThickness']=33.0\n",
    "\n",
    "filt=(df['Outcome']==0) & (df['BloodPressure']!=0)\n",
    "\n",
    "bp_med_0=df.loc[filt].mean()\n",
    "\n",
    "df.loc[((df.BloodPressure==0) & (df.Outcome==0)) ,'BloodPressure']=70.0\n",
    "\n",
    "filt=(df['Outcome']==1) & (df['BloodPressure']!=0)\n",
    "\n",
    "bp_med_1=df.loc[filt].mean()\n",
    "\n",
    "df.loc[((df.BloodPressure==0) & (df.Outcome==1)) ,'BloodPressure']=74.5\n"
   ]
  },
  {
   "cell_type": "code",
   "execution_count": 35,
   "metadata": {},
   "outputs": [],
   "source": [
    "X=df.drop('Outcome',axis=1).values\n",
    "# Independent features\n",
    "y=df['Outcome'].values                    #  Dependent features"
   ]
  },
  {
   "cell_type": "code",
   "execution_count": 36,
   "metadata": {},
   "outputs": [],
   "source": [
    "from sklearn.model_selection import train_test_split\n",
    "\n",
    "X_train,X_test,y_train,y_test=train_test_split(X,y,test_size=0.2,random_state=0)"
   ]
  },
  {
   "cell_type": "code",
   "execution_count": 37,
   "metadata": {},
   "outputs": [],
   "source": [
    "# Creating Tensors\n",
    "\n",
    "X_train=torch.FloatTensor(X_train)\n",
    "\n",
    "X_test=torch.FloatTensor(X_test)\n",
    "\n",
    "y_train=torch.LongTensor(y_train)\n",
    "\n",
    "y_test=torch.LongTensor(y_test)"
   ]
  },
  {
   "cell_type": "code",
   "execution_count": 38,
   "metadata": {},
   "outputs": [],
   "source": [
    "# ANN Model creation using Pytorch\n",
    "\n",
    "class ANN_Model(nn.Module):\n",
    "    \n",
    "    def __init__(self,input_features=8,hidden1=20,hidden2=20,out_features=2):\n",
    "        \n",
    "        super().__init__()\n",
    "        \n",
    "        self.f_connected1=nn.Linear(input_features,hidden1)\n",
    "        \n",
    "        self.f_connected2=nn.Linear(hidden1,hidden2)\n",
    "        \n",
    "        self.out=nn.Linear(hidden2,out_features)\n",
    "        \n",
    "    def forward(self,x):\n",
    "        \n",
    "        x=F.relu(self.f_connected1(x))\n",
    "        \n",
    "        x=F.relu(self.f_connected2(x))\n",
    "        \n",
    "        x=self.out(x)\n",
    "        \n",
    "        return x"
   ]
  },
  {
   "cell_type": "code",
   "execution_count": 39,
   "metadata": {},
   "outputs": [],
   "source": [
    "# Instantiation of ANN Model\n",
    "\n",
    "torch.manual_seed(20) \n",
    "\n",
    "# Sets the seed for generating random numbers. Returns a torch.Generator object.\n",
    "\n",
    "model=ANN_Model()"
   ]
  },
  {
   "cell_type": "code",
   "execution_count": 40,
   "metadata": {},
   "outputs": [
    {
     "data": {
      "text/plain": [
       "<bound method Module.parameters of ANN_Model(\n",
       "  (f_connected1): Linear(in_features=8, out_features=20, bias=True)\n",
       "  (f_connected2): Linear(in_features=20, out_features=20, bias=True)\n",
       "  (out): Linear(in_features=20, out_features=2, bias=True)\n",
       ")>"
      ]
     },
     "execution_count": 40,
     "metadata": {},
     "output_type": "execute_result"
    }
   ],
   "source": [
    "model.parameters \n",
    "\n",
    "# Listing out the parameters in our model"
   ]
  },
  {
   "cell_type": "code",
   "execution_count": 41,
   "metadata": {},
   "outputs": [
    {
     "data": {
      "text/html": [
       "<div>\n",
       "<style scoped>\n",
       "    .dataframe tbody tr th:only-of-type {\n",
       "        vertical-align: middle;\n",
       "    }\n",
       "\n",
       "    .dataframe tbody tr th {\n",
       "        vertical-align: top;\n",
       "    }\n",
       "\n",
       "    .dataframe thead th {\n",
       "        text-align: right;\n",
       "    }\n",
       "</style>\n",
       "<table border=\"1\" class=\"dataframe\">\n",
       "  <thead>\n",
       "    <tr style=\"text-align: right;\">\n",
       "      <th></th>\n",
       "      <th>Pregnancies</th>\n",
       "      <th>Glucose</th>\n",
       "      <th>BloodPressure</th>\n",
       "      <th>SkinThickness</th>\n",
       "      <th>Insulin</th>\n",
       "      <th>BMI</th>\n",
       "      <th>DiabetesPedigreeFunction</th>\n",
       "      <th>Age</th>\n",
       "      <th>Outcome</th>\n",
       "    </tr>\n",
       "  </thead>\n",
       "  <tbody>\n",
       "    <tr>\n",
       "      <th>Pregnancies</th>\n",
       "      <td>1.000000</td>\n",
       "      <td>0.129932</td>\n",
       "      <td>0.209151</td>\n",
       "      <td>0.093346</td>\n",
       "      <td>0.093493</td>\n",
       "      <td>0.017683</td>\n",
       "      <td>-0.033523</td>\n",
       "      <td>0.544341</td>\n",
       "      <td>0.221898</td>\n",
       "    </tr>\n",
       "    <tr>\n",
       "      <th>Glucose</th>\n",
       "      <td>0.129932</td>\n",
       "      <td>1.000000</td>\n",
       "      <td>0.224888</td>\n",
       "      <td>0.236259</td>\n",
       "      <td>0.497876</td>\n",
       "      <td>0.237485</td>\n",
       "      <td>0.138170</td>\n",
       "      <td>0.268638</td>\n",
       "      <td>0.495998</td>\n",
       "    </tr>\n",
       "    <tr>\n",
       "      <th>BloodPressure</th>\n",
       "      <td>0.209151</td>\n",
       "      <td>0.224888</td>\n",
       "      <td>1.000000</td>\n",
       "      <td>0.202705</td>\n",
       "      <td>0.099693</td>\n",
       "      <td>0.242207</td>\n",
       "      <td>-0.001443</td>\n",
       "      <td>0.325135</td>\n",
       "      <td>0.174469</td>\n",
       "    </tr>\n",
       "    <tr>\n",
       "      <th>SkinThickness</th>\n",
       "      <td>0.093346</td>\n",
       "      <td>0.236259</td>\n",
       "      <td>0.202705</td>\n",
       "      <td>1.000000</td>\n",
       "      <td>0.213791</td>\n",
       "      <td>0.505521</td>\n",
       "      <td>0.103666</td>\n",
       "      <td>0.134394</td>\n",
       "      <td>0.311242</td>\n",
       "    </tr>\n",
       "    <tr>\n",
       "      <th>Insulin</th>\n",
       "      <td>0.093493</td>\n",
       "      <td>0.497876</td>\n",
       "      <td>0.099693</td>\n",
       "      <td>0.213791</td>\n",
       "      <td>1.000000</td>\n",
       "      <td>0.211708</td>\n",
       "      <td>0.121796</td>\n",
       "      <td>0.165073</td>\n",
       "      <td>0.410997</td>\n",
       "    </tr>\n",
       "    <tr>\n",
       "      <th>BMI</th>\n",
       "      <td>0.017683</td>\n",
       "      <td>0.237485</td>\n",
       "      <td>0.242207</td>\n",
       "      <td>0.505521</td>\n",
       "      <td>0.211708</td>\n",
       "      <td>1.000000</td>\n",
       "      <td>0.140647</td>\n",
       "      <td>0.036242</td>\n",
       "      <td>0.292695</td>\n",
       "    </tr>\n",
       "    <tr>\n",
       "      <th>DiabetesPedigreeFunction</th>\n",
       "      <td>-0.033523</td>\n",
       "      <td>0.138170</td>\n",
       "      <td>-0.001443</td>\n",
       "      <td>0.103666</td>\n",
       "      <td>0.121796</td>\n",
       "      <td>0.140647</td>\n",
       "      <td>1.000000</td>\n",
       "      <td>0.033561</td>\n",
       "      <td>0.173844</td>\n",
       "    </tr>\n",
       "    <tr>\n",
       "      <th>Age</th>\n",
       "      <td>0.544341</td>\n",
       "      <td>0.268638</td>\n",
       "      <td>0.325135</td>\n",
       "      <td>0.134394</td>\n",
       "      <td>0.165073</td>\n",
       "      <td>0.036242</td>\n",
       "      <td>0.033561</td>\n",
       "      <td>1.000000</td>\n",
       "      <td>0.238356</td>\n",
       "    </tr>\n",
       "    <tr>\n",
       "      <th>Outcome</th>\n",
       "      <td>0.221898</td>\n",
       "      <td>0.495998</td>\n",
       "      <td>0.174469</td>\n",
       "      <td>0.311242</td>\n",
       "      <td>0.410997</td>\n",
       "      <td>0.292695</td>\n",
       "      <td>0.173844</td>\n",
       "      <td>0.238356</td>\n",
       "      <td>1.000000</td>\n",
       "    </tr>\n",
       "  </tbody>\n",
       "</table>\n",
       "</div>"
      ],
      "text/plain": [
       "                          Pregnancies   Glucose  BloodPressure  SkinThickness  \\\n",
       "Pregnancies                  1.000000  0.129932       0.209151       0.093346   \n",
       "Glucose                      0.129932  1.000000       0.224888       0.236259   \n",
       "BloodPressure                0.209151  0.224888       1.000000       0.202705   \n",
       "SkinThickness                0.093346  0.236259       0.202705       1.000000   \n",
       "Insulin                      0.093493  0.497876       0.099693       0.213791   \n",
       "BMI                          0.017683  0.237485       0.242207       0.505521   \n",
       "DiabetesPedigreeFunction    -0.033523  0.138170      -0.001443       0.103666   \n",
       "Age                          0.544341  0.268638       0.325135       0.134394   \n",
       "Outcome                      0.221898  0.495998       0.174469       0.311242   \n",
       "\n",
       "                           Insulin       BMI  DiabetesPedigreeFunction  \\\n",
       "Pregnancies               0.093493  0.017683                 -0.033523   \n",
       "Glucose                   0.497876  0.237485                  0.138170   \n",
       "BloodPressure             0.099693  0.242207                 -0.001443   \n",
       "SkinThickness             0.213791  0.505521                  0.103666   \n",
       "Insulin                   1.000000  0.211708                  0.121796   \n",
       "BMI                       0.211708  1.000000                  0.140647   \n",
       "DiabetesPedigreeFunction  0.121796  0.140647                  1.000000   \n",
       "Age                       0.165073  0.036242                  0.033561   \n",
       "Outcome                   0.410997  0.292695                  0.173844   \n",
       "\n",
       "                               Age   Outcome  \n",
       "Pregnancies               0.544341  0.221898  \n",
       "Glucose                   0.268638  0.495998  \n",
       "BloodPressure             0.325135  0.174469  \n",
       "SkinThickness             0.134394  0.311242  \n",
       "Insulin                   0.165073  0.410997  \n",
       "BMI                       0.036242  0.292695  \n",
       "DiabetesPedigreeFunction  0.033561  0.173844  \n",
       "Age                       1.000000  0.238356  \n",
       "Outcome                   0.238356  1.000000  "
      ]
     },
     "execution_count": 41,
     "metadata": {},
     "output_type": "execute_result"
    }
   ],
   "source": [
    "df.corr()              \n",
    "\n",
    "# Co-relation of attributes is observed here\n",
    "\n",
    "# Feature Significance ... as we observe all features are necessary for prediction\n"
   ]
  },
  {
   "cell_type": "code",
   "execution_count": 42,
   "metadata": {},
   "outputs": [
    {
     "data": {
      "text/plain": [
       "<AxesSubplot:>"
      ]
     },
     "execution_count": 42,
     "metadata": {},
     "output_type": "execute_result"
    },
    {
     "data": {
      "image/png": "[encoded data removed]",
      "text/plain": [
       "<Figure size 432x288 with 2 Axes>"
      ]
     },
     "metadata": {
      "needs_background": "light"
     },
     "output_type": "display_data"
    }
   ],
   "source": [
    "# Digrammatic  representation - correlation of parameters\n",
    "\n",
    "sns.heatmap(df.corr())"
   ]
  },
  {
   "cell_type": "code",
   "execution_count": 43,
   "metadata": {},
   "outputs": [],
   "source": [
    "# Backward propagation ... loss_function and optimizer are defined\n",
    "\n",
    "loss_function=nn.CrossEntropyLoss()     #Cross-entropy is commonly used in machine learning as a loss function.\n",
    "\n",
    "# torch.optim is a package implementing various optimization algorithms\n",
    "\n",
    "optimizer=torch.optim.Adam(model.parameters(),lr=0.02)  # 'lr' denotes learning rate"
   ]
  },
  {
   "cell_type": "code",
   "execution_count": 44,
   "metadata": {},
   "outputs": [
    {
     "name": "stdout",
     "output_type": "stream",
     "text": [
      "Epoch number: 1 and the loss : 2.99768328666687\n",
      "Epoch number: 101 and the loss : 0.4615896940231323\n",
      "Epoch number: 201 and the loss : 0.40748292207717896\n",
      "Epoch number: 301 and the loss : 0.3508196771144867\n",
      "Epoch number: 401 and the loss : 0.32038551568984985\n"
     ]
    }
   ],
   "source": [
    "# Epochs are number of times that learning algorithm will work through entire training dataset\n",
    "\n",
    "epochs=500\n",
    "\n",
    "final_losses=[]\n",
    "\n",
    "for i in range(epochs):\n",
    "    \n",
    "    i=i+1\n",
    "    \n",
    "    y_pred=model.forward(X_train)\n",
    "    \n",
    "    loss=loss_function(y_pred,y_train)\n",
    "    \n",
    "    final_losses.append(loss)\n",
    "    \n",
    "    if i%100==1:\n",
    "        \n",
    "        print(\"Epoch number: {} and the loss : {}\".format(i,loss.item()))\n",
    "        \n",
    "    optimizer.zero_grad()\n",
    "    \n",
    "    # Sets the gradients of all optimized torch\n",
    "    \n",
    "    loss.backward()\n",
    "    \n",
    "    # compute gradient of loss w.r.t all parameters in loss that have requires_grad = True &\n",
    "    \n",
    "    # store them in parameter\n",
    "    \n",
    "    optimizer.step()\n",
    "    \n",
    "    # Makes the optimizer iterate over all parameters (tensors) it is supposed to update &\n",
    "    \n",
    "    # Use their internally stored grad to update values"
   ]
  },
  {
   "cell_type": "code",
   "execution_count": 45,
   "metadata": {},
   "outputs": [],
   "source": [
    "# Prediction performed in X_test data\n",
    "\n",
    "predictions=[]\n",
    "\n",
    "with torch.no_grad():\n",
    "    \n",
    "    for i,data in enumerate(X_test):\n",
    "        \n",
    "        y_pred=model(data)\n",
    "        \n",
    "        predictions.append(y_pred.argmax().item())"
   ]
  },
  {
   "cell_type": "code",
   "execution_count": 46,
   "metadata": {},
   "outputs": [
    {
     "name": "stdout",
     "output_type": "stream",
     "text": [
      "[[101   6]\n",
      " [ 11  36]]\n"
     ]
    },
    {
     "data": {
      "text/plain": [
       "'[[TP FP]\\n  [FN TN]] reprsents confusion matrix'"
      ]
     },
     "execution_count": 46,
     "metadata": {},
     "output_type": "execute_result"
    }
   ],
   "source": [
    "# Confusion Matrix\n",
    "\n",
    "from sklearn.metrics import confusion_matrix\n",
    "\n",
    "cm=confusion_matrix(y_test,predictions)\n",
    "\n",
    "# CM is also called as Error Matrix, which is summarised table to assess the performance of classification model\n",
    "\n",
    "print(cm)\n",
    "\n",
    "'''[[TP FP]\n",
    "  [FN TN]] reprsents confusion matrix'''"
   ]
  },
  {
   "cell_type": "code",
   "execution_count": 47,
   "metadata": {
    "scrolled": true
   },
   "outputs": [
    {
     "data": {
      "text/plain": [
       "Text(69.0, 0.5, 'Predicted Values')"
      ]
     },
     "execution_count": 47,
     "metadata": {},
     "output_type": "execute_result"
    },
    {
     "data": {
      "image/png": "[encoded data removed]",
      "text/plain": [
       "<Figure size 720x432 with 2 Axes>"
      ]
     },
     "metadata": {
      "needs_background": "light"
     },
     "output_type": "display_data"
    }
   ],
   "source": [
    "import matplotlib.pyplot as plt\n",
    "\n",
    "plt.figure(figsize=(10,6))\n",
    "\n",
    "sns.heatmap(cm,annot=True)\n",
    "\n",
    "plt.xlabel('Actual Values')\n",
    "\n",
    "plt.ylabel('Predicted Values')"
   ]
  },
  {
   "cell_type": "code",
   "execution_count": 48,
   "metadata": {},
   "outputs": [
    {
     "data": {
      "text/plain": [
       "88.96103896103897"
      ]
     },
     "execution_count": 48,
     "metadata": {},
     "output_type": "execute_result"
    }
   ],
   "source": [
    "# Determining Accuracy using pre-defined function from scikit learn module\n",
    "\n",
    "from sklearn.metrics import accuracy_score\n",
    "\n",
    "score=accuracy_score(y_test,predictions)\n",
    "\n",
    "score * 100"
   ]
  },
  {
   "cell_type": "code",
   "execution_count": 49,
   "metadata": {},
   "outputs": [
    {
     "data": {
      "text/plain": [
       "<AxesSubplot:xlabel='Insulin'>"
      ]
     },
     "execution_count": 49,
     "metadata": {},
     "output_type": "execute_result"
    },
    {
     "data": {
      "image/png": "[encoded data removed]",
      "text/plain": [
       "<Figure size 432x288 with 1 Axes>"
      ]
     },
     "metadata": {
      "needs_background": "light"
     },
     "output_type": "display_data"
    }
   ],
   "source": [
    "sns.boxplot(x=df['Insulin'])\n",
    "\n",
    "# Boxplot to detect outliers\n",
    "\n",
    "# Boxplot summarizes sample data using 25th, 50th, and 75th percentiles"
   ]
  },
  {
   "cell_type": "code",
   "execution_count": 50,
   "metadata": {},
   "outputs": [
    {
     "name": "stdout",
     "output_type": "stream",
     "text": [
      "(array([  8,  13, 111, 153, 186, 220, 228, 231, 247, 248, 258, 286, 370,\n",
      "       392, 409, 415, 486, 584, 645, 655, 695, 710, 715, 753], dtype=int64),)\n"
     ]
    }
   ],
   "source": [
    "print(np.where(df['Insulin']>365))\n",
    "\n",
    "# Determining index values of outliers to remove from dataset"
   ]
  },
  {
   "cell_type": "code",
   "execution_count": 51,
   "metadata": {},
   "outputs": [
    {
     "name": "stdout",
     "output_type": "stream",
     "text": [
      "0      1.425995\n",
      "1      0.190672\n",
      "2      0.105584\n",
      "3      1.041549\n",
      "4      0.020496\n",
      "         ...   \n",
      "763    2.532136\n",
      "764    0.531023\n",
      "765    0.275760\n",
      "766    1.170732\n",
      "767    0.871374\n",
      "Name: Age, Length: 768, dtype: float64\n"
     ]
    }
   ],
   "source": [
    "# Z-Score (a numerical measurement that describes a value's relationship to the mean of a group of values)\n",
    "\n",
    "# It gives relative score between records in dataset & also referred as standard score\n",
    "\n",
    "from scipy import stats\n",
    "\n",
    "import numpy as np\n",
    " \n",
    "z = np.abs(stats.zscore(df['Age'])) # Zscore = (data_point - mean) / std. deviation\n",
    "\n",
    "print(z)"
   ]
  },
  {
   "cell_type": "code",
   "execution_count": 52,
   "metadata": {},
   "outputs": [
    {
     "name": "stdout",
     "output_type": "stream",
     "text": [
      "85.80000000000001\n"
     ]
    }
   ],
   "source": [
    "# IQR(Inter Quartile Range) most commonly used and most trusted approach used in the research field\n",
    "\n",
    "\n",
    "Q1 = np.percentile(df['Insulin'], 25, interpolation = 'midpoint')\n",
    " \n",
    "Q3 = np.percentile(df['Insulin'], 75, interpolation = 'midpoint')\n",
    "\n",
    "IQR = Q3 - Q1\n",
    "\n",
    "print(IQR)"
   ]
  },
  {
   "cell_type": "code",
   "execution_count": 53,
   "metadata": {},
   "outputs": [],
   "source": [
    "# Minimum and Maximum values of range that are being included in dataset\n",
    "\n",
    "# The values outside these range falls under Outliers\n",
    "\n",
    "upper = np.where(df['Insulin'] >= (Q3+1.5*IQR))\n",
    "\n",
    "lower = np.where(df['Insulin'] <= (Q1-1.5*IQR))"
   ]
  },
  {
   "cell_type": "code",
   "execution_count": 54,
   "metadata": {},
   "outputs": [],
   "source": [
    "# Saving our model to local disk\n",
    "\n",
    "model_scripted = torch.jit.script(model)\n",
    "\n",
    "model_scripted.save('model_scripted.pt')"
   ]
  },
  {
   "cell_type": "code",
   "execution_count": 55,
   "metadata": {},
   "outputs": [
    {
     "data": {
      "text/plain": [
       "RecursiveScriptModule(\n",
       "  original_name=ANN_Model\n",
       "  (f_connected1): RecursiveScriptModule(original_name=Linear)\n",
       "  (f_connected2): RecursiveScriptModule(original_name=Linear)\n",
       "  (out): RecursiveScriptModule(original_name=Linear)\n",
       ")"
      ]
     },
     "execution_count": 55,
     "metadata": {},
     "output_type": "execute_result"
    }
   ],
   "source": [
    "# Loading & Verifying attributes of model\n",
    "\n",
    "# Used to Load a ScriptModule or ScriptFunction previously saved with torch.jit.save\n",
    "\n",
    "model = torch.jit.load('model_scripted.pt') \n",
    "\n",
    "model.eval()"
   ]
  },
  {
   "cell_type": "code",
   "execution_count": 56,
   "metadata": {},
   "outputs": [],
   "source": [
    "# List of attribute values [ Pregnancies, Glucose, BloodPressure, SkinThickness, Insulin, BMI, DiabetesPedigreeFunction, Age ]\n",
    "\n",
    "lst1=[4, 98.0, 89.0, 89.0, 879.0, 9843.1, 3.288, 53.0]"
   ]
  },
  {
   "cell_type": "code",
   "execution_count": 57,
   "metadata": {},
   "outputs": [],
   "source": [
    "# Prediction for random data\n",
    "\n",
    "new_data=torch.tensor(lst1)"
   ]
  },
  {
   "cell_type": "code",
   "execution_count": 58,
   "metadata": {},
   "outputs": [
    {
     "name": "stdout",
     "output_type": "stream",
     "text": [
      "Diabetic (Positive)\n"
     ]
    }
   ],
   "source": [
    "# torch.no_grad() is used to perform inference without Gradient Calculation.\n",
    "# Also to make sure there's no leak test data into the model.\n",
    "\n",
    "with torch.no_grad():\n",
    "    if (model(new_data).argmax().item()):\n",
    "        print(\"Diabetic (Positive)\")\n",
    "    else:\n",
    "        print(\"Non-Diabetic (Negative)\")"
   ]
  },
  {
   "cell_type": "code",
   "execution_count": 59,
   "metadata": {},
   "outputs": [],
   "source": [
    "# Cleaned dataset is saved as .csv file in local disk\n",
    "\n",
    "df.to_csv('dataset_cleaned.csv')"
   ]
  },
  {
   "cell_type": "code",
   "execution_count": 60,
   "metadata": {},
   "outputs": [
    {
     "data": {
      "text/html": [
       "<div>\n",
       "<style scoped>\n",
       "    .dataframe tbody tr th:only-of-type {\n",
       "        vertical-align: middle;\n",
       "    }\n",
       "\n",
       "    .dataframe tbody tr th {\n",
       "        vertical-align: top;\n",
       "    }\n",
       "\n",
       "    .dataframe thead th {\n",
       "        text-align: right;\n",
       "    }\n",
       "</style>\n",
       "<table border=\"1\" class=\"dataframe\">\n",
       "  <thead>\n",
       "    <tr style=\"text-align: right;\">\n",
       "      <th></th>\n",
       "      <th>Pregnancies</th>\n",
       "      <th>Glucose</th>\n",
       "      <th>BloodPressure</th>\n",
       "      <th>SkinThickness</th>\n",
       "      <th>Insulin</th>\n",
       "      <th>BMI</th>\n",
       "      <th>DiabetesPedigreeFunction</th>\n",
       "      <th>Age</th>\n",
       "      <th>Outcome</th>\n",
       "    </tr>\n",
       "  </thead>\n",
       "  <tbody>\n",
       "    <tr>\n",
       "      <th>0</th>\n",
       "      <td>6</td>\n",
       "      <td>148.0</td>\n",
       "      <td>72.0</td>\n",
       "      <td>35</td>\n",
       "      <td>206.8</td>\n",
       "      <td>33.6</td>\n",
       "      <td>0.627</td>\n",
       "      <td>50</td>\n",
       "      <td>1</td>\n",
       "    </tr>\n",
       "    <tr>\n",
       "      <th>1</th>\n",
       "      <td>1</td>\n",
       "      <td>85.0</td>\n",
       "      <td>66.0</td>\n",
       "      <td>29</td>\n",
       "      <td>130.2</td>\n",
       "      <td>26.6</td>\n",
       "      <td>0.351</td>\n",
       "      <td>31</td>\n",
       "      <td>0</td>\n",
       "    </tr>\n",
       "    <tr>\n",
       "      <th>2</th>\n",
       "      <td>8</td>\n",
       "      <td>183.0</td>\n",
       "      <td>64.0</td>\n",
       "      <td>33</td>\n",
       "      <td>206.8</td>\n",
       "      <td>23.3</td>\n",
       "      <td>0.672</td>\n",
       "      <td>32</td>\n",
       "      <td>1</td>\n",
       "    </tr>\n",
       "    <tr>\n",
       "      <th>3</th>\n",
       "      <td>1</td>\n",
       "      <td>89.0</td>\n",
       "      <td>66.0</td>\n",
       "      <td>23</td>\n",
       "      <td>94.0</td>\n",
       "      <td>28.1</td>\n",
       "      <td>0.167</td>\n",
       "      <td>21</td>\n",
       "      <td>0</td>\n",
       "    </tr>\n",
       "    <tr>\n",
       "      <th>4</th>\n",
       "      <td>0</td>\n",
       "      <td>137.0</td>\n",
       "      <td>40.0</td>\n",
       "      <td>35</td>\n",
       "      <td>168.0</td>\n",
       "      <td>43.1</td>\n",
       "      <td>2.288</td>\n",
       "      <td>33</td>\n",
       "      <td>1</td>\n",
       "    </tr>\n",
       "  </tbody>\n",
       "</table>\n",
       "</div>"
      ],
      "text/plain": [
       "   Pregnancies  Glucose  BloodPressure  SkinThickness  Insulin   BMI  \\\n",
       "0            6    148.0           72.0             35    206.8  33.6   \n",
       "1            1     85.0           66.0             29    130.2  26.6   \n",
       "2            8    183.0           64.0             33    206.8  23.3   \n",
       "3            1     89.0           66.0             23     94.0  28.1   \n",
       "4            0    137.0           40.0             35    168.0  43.1   \n",
       "\n",
       "   DiabetesPedigreeFunction  Age  Outcome  \n",
       "0                     0.627   50        1  \n",
       "1                     0.351   31        0  \n",
       "2                     0.672   32        1  \n",
       "3                     0.167   21        0  \n",
       "4                     2.288   33        1  "
      ]
     },
     "execution_count": 60,
     "metadata": {},
     "output_type": "execute_result"
    }
   ],
   "source": [
    "# Updated data frame for reference\n",
    "\n",
    "df.head()"
   ]
  },
  {
   "cell_type": "code",
   "execution_count": null,
   "metadata": {},
   "outputs": [],
   "source": []
  }
 ],
 "metadata": {
  "kernelspec": {
   "display_name": "Python 3 (ipykernel)",
   "language": "python",
   "name": "python3"
  },
  "language_info": {
   "codemirror_mode": {
    "name": "ipython",
    "version": 3
   },
   "file_extension": ".py",
   "mimetype": "text/x-python",
   "name": "python",
   "nbconvert_exporter": "python",
   "pygments_lexer": "ipython3",
   "version": "3.9.7"
  }
 },
 "nbformat": 4,
 "nbformat_minor": 4
}
