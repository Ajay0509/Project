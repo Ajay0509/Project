{
 "cells": [
  {
   "cell_type": "code",
   "execution_count": 1,
   "metadata": {},
   "outputs": [
    {
     "data": {
      "text/html": [
       "<div>\n",
       "<style scoped>\n",
       "    .dataframe tbody tr th:only-of-type {\n",
       "        vertical-align: middle;\n",
       "    }\n",
       "\n",
       "    .dataframe tbody tr th {\n",
       "        vertical-align: top;\n",
       "    }\n",
       "\n",
       "    .dataframe thead th {\n",
       "        text-align: right;\n",
       "    }\n",
       "</style>\n",
       "<table border=\"1\" class=\"dataframe\">\n",
       "  <thead>\n",
       "    <tr style=\"text-align: right;\">\n",
       "      <th></th>\n",
       "      <th>Pregnancies</th>\n",
       "      <th>Glucose</th>\n",
       "      <th>BloodPressure</th>\n",
       "      <th>SkinThickness</th>\n",
       "      <th>Insulin</th>\n",
       "      <th>BMI</th>\n",
       "      <th>DiabetesPedigreeFunction</th>\n",
       "      <th>Age</th>\n",
       "      <th>Outcome</th>\n",
       "    </tr>\n",
       "  </thead>\n",
       "  <tbody>\n",
       "    <tr>\n",
       "      <th>0</th>\n",
       "      <td>6</td>\n",
       "      <td>148</td>\n",
       "      <td>72</td>\n",
       "      <td>35</td>\n",
       "      <td>0</td>\n",
       "      <td>33.6</td>\n",
       "      <td>0.627</td>\n",
       "      <td>50</td>\n",
       "      <td>1</td>\n",
       "    </tr>\n",
       "    <tr>\n",
       "      <th>1</th>\n",
       "      <td>1</td>\n",
       "      <td>85</td>\n",
       "      <td>66</td>\n",
       "      <td>29</td>\n",
       "      <td>0</td>\n",
       "      <td>26.6</td>\n",
       "      <td>0.351</td>\n",
       "      <td>31</td>\n",
       "      <td>0</td>\n",
       "    </tr>\n",
       "    <tr>\n",
       "      <th>2</th>\n",
       "      <td>8</td>\n",
       "      <td>183</td>\n",
       "      <td>64</td>\n",
       "      <td>0</td>\n",
       "      <td>0</td>\n",
       "      <td>23.3</td>\n",
       "      <td>0.672</td>\n",
       "      <td>32</td>\n",
       "      <td>1</td>\n",
       "    </tr>\n",
       "    <tr>\n",
       "      <th>3</th>\n",
       "      <td>1</td>\n",
       "      <td>89</td>\n",
       "      <td>66</td>\n",
       "      <td>23</td>\n",
       "      <td>94</td>\n",
       "      <td>28.1</td>\n",
       "      <td>0.167</td>\n",
       "      <td>21</td>\n",
       "      <td>0</td>\n",
       "    </tr>\n",
       "    <tr>\n",
       "      <th>4</th>\n",
       "      <td>0</td>\n",
       "      <td>137</td>\n",
       "      <td>40</td>\n",
       "      <td>35</td>\n",
       "      <td>168</td>\n",
       "      <td>43.1</td>\n",
       "      <td>2.288</td>\n",
       "      <td>33</td>\n",
       "      <td>1</td>\n",
       "    </tr>\n",
       "  </tbody>\n",
       "</table>\n",
       "</div>"
      ],
      "text/plain": [
       "   Pregnancies  Glucose  BloodPressure  SkinThickness  Insulin   BMI  \\\n",
       "0            6      148             72             35        0  33.6   \n",
       "1            1       85             66             29        0  26.6   \n",
       "2            8      183             64              0        0  23.3   \n",
       "3            1       89             66             23       94  28.1   \n",
       "4            0      137             40             35      168  43.1   \n",
       "\n",
       "   DiabetesPedigreeFunction  Age  Outcome  \n",
       "0                     0.627   50        1  \n",
       "1                     0.351   31        0  \n",
       "2                     0.672   32        1  \n",
       "3                     0.167   21        0  \n",
       "4                     2.288   33        1  "
      ]
     },
     "execution_count": 1,
     "metadata": {},
     "output_type": "execute_result"
    }
   ],
   "source": [
    "import pandas as pd\n",
    "\n",
    "import seaborn as sns\n",
    "\n",
    "import numpy as np\n",
    "\n",
    "import torch                      # Libraries from Pytorch\n",
    "\n",
    "import torch.nn as nn\n",
    "\n",
    "import torch.nn.functional as F\n",
    "\n",
    "df=pd.read_csv('D:\\\\Academics\\\\Major Project\\\\data\\\\diabetes.csv')\n",
    "\n",
    "df.head()"
   ]
  },
  {
   "cell_type": "code",
   "execution_count": 2,
   "metadata": {},
   "outputs": [],
   "source": [
    "#Data Cleaning is performed to replace 0 values with statistical measures\n",
    "\n",
    "filt=(df['Outcome']==0) & (df['Insulin']!=0)\n",
    "\n",
    "ins_med_0=df.loc[filt].median()\n",
    "\n",
    "df.loc[((df.Insulin==0) & (df.Outcome==0)) ,'Insulin']=130.2\n",
    "\n",
    "\n",
    "filt=(df['Outcome']==1) & (df['Insulin']!=0)\n",
    "\n",
    "ins_med_1=df.loc[filt].median()\n",
    "\n",
    "df.loc[((df.Insulin==0) & (df.Outcome==1)) ,'Insulin']=206.8\n",
    "\n",
    "\n",
    "filt=(df['Outcome']==0) & (df['Glucose']!=0)\n",
    "\n",
    "glu_med_0=df.loc[filt].mean()\n",
    "\n",
    "df.loc[((df.Glucose==0) & (df.Outcome==0)) ,'Glucose']=110.0\n",
    "\n",
    "filt=(df['Outcome']==1) & (df['Glucose']!=0)\n",
    "\n",
    "glu_med_1=df.loc[filt].mean()\n",
    "\n",
    "df.loc[((df.Glucose==0) & (df.Outcome==1)) ,'Glucose']=142.3\n",
    "\n",
    "\n",
    "filt=(df['Outcome']==0) & (df['SkinThickness']!=0)\n",
    "\n",
    "sk_med_0=df.loc[filt].mean()\n",
    "\n",
    "df.loc[((df.SkinThickness==0) & (df.Outcome==0)) ,'SkinThickness']=27.0\n",
    "\n",
    "filt=(df['Outcome']==1) & (df['SkinThickness']!=0)\n",
    "\n",
    "sk_med_1=df.loc[filt].mean()\n",
    "\n",
    "df.loc[((df.SkinThickness==0) & (df.Outcome==1)) ,'SkinThickness']=33.0\n",
    "\n",
    "filt=(df['Outcome']==0) & (df['BloodPressure']!=0)\n",
    "\n",
    "bp_med_0=df.loc[filt].mean()\n",
    "\n",
    "df.loc[((df.BloodPressure==0) & (df.Outcome==0)) ,'BloodPressure']=70.0\n",
    "\n",
    "filt=(df['Outcome']==1) & (df['BloodPressure']!=0)\n",
    "\n",
    "bp_med_1=df.loc[filt].mean()\n",
    "\n",
    "df.loc[((df.BloodPressure==0) & (df.Outcome==1)) ,'BloodPressure']=74.5\n"
   ]
  },
  {
   "cell_type": "code",
   "execution_count": 3,
   "metadata": {},
   "outputs": [
    {
     "name": "stdout",
     "output_type": "stream",
     "text": [
      "IQR :  85.80000000000001\n"
     ]
    }
   ],
   "source": [
    "Q1 = np.percentile(df['Insulin'], 25, interpolation = 'midpoint')\n",
    " \n",
    "Q3 = np.percentile(df['Insulin'], 75, interpolation = 'midpoint')\n",
    "\n",
    "IQR = Q3 - Q1\n",
    "\n",
    "print(\"IQR : \",IQR)\n",
    "\n",
    "upper = np.where(df['Insulin'] >= (Q3+1.5*IQR))\n",
    "\n",
    "lower = np.where(df['Insulin'] <= (Q1-1.5*IQR))\n",
    "\n",
    "df.drop(upper[0], inplace = True)\n",
    "\n",
    "df.drop(lower[0], inplace = True)\n",
    "\n"
   ]
  },
  {
   "cell_type": "code",
   "execution_count": 4,
   "metadata": {},
   "outputs": [],
   "source": [
    "df1 = df.append(df, ignore_index=True)"
   ]
  },
  {
   "cell_type": "code",
   "execution_count": 5,
   "metadata": {},
   "outputs": [],
   "source": [
    "X=df1.drop('Outcome',axis=1).values\n",
    "# Independent features\n",
    "\n",
    "y=df1['Outcome'].values\n",
    "z=df1['Outcome'].values \n",
    "#  Dependent features"
   ]
  },
  {
   "cell_type": "code",
   "execution_count": 6,
   "metadata": {},
   "outputs": [],
   "source": [
    "from sklearn.model_selection import train_test_split\n",
    "\n",
    "X_train,X_test,y_train,y_test=train_test_split(X,y,test_size=0.2,random_state=0)"
   ]
  },
  {
   "cell_type": "code",
   "execution_count": 7,
   "metadata": {},
   "outputs": [],
   "source": [
    "# Creating Tensors\n",
    "\n",
    "X_train=torch.FloatTensor(X_train)\n",
    "\n",
    "X_test=torch.FloatTensor(X_test)\n",
    "\n",
    "y_train=torch.LongTensor(y_train)\n",
    "\n",
    "y_test=torch.LongTensor(y_test)"
   ]
  },
  {
   "cell_type": "code",
   "execution_count": 8,
   "metadata": {},
   "outputs": [],
   "source": [
    "# ANN Model creation using Pytorch\n",
    "\n",
    "class ANN_Model(nn.Module):\n",
    "    \n",
    "    def __init__(self,input_features=8,hidden1=20,hidden2=20,out_features=2):\n",
    "        \n",
    "        super().__init__()\n",
    "        \n",
    "        self.f_connected1=nn.Linear(input_features,hidden1)\n",
    "        \n",
    "        self.f_connected2=nn.Linear(hidden1,hidden2)\n",
    "        \n",
    "        self.out=nn.Linear(hidden2,out_features)\n",
    "        \n",
    "    def forward(self,x):\n",
    "        \n",
    "        x=F.relu(self.f_connected1(x))\n",
    "        \n",
    "        x=F.relu(self.f_connected2(x))\n",
    "        \n",
    "        x=self.out(x)\n",
    "        \n",
    "        return x"
   ]
  },
  {
   "cell_type": "code",
   "execution_count": 9,
   "metadata": {},
   "outputs": [],
   "source": [
    "# Instantiation of ANN Model\n",
    "\n",
    "torch.manual_seed(20) \n",
    "\n",
    "# Sets the seed for generating random numbers. Returns a torch.Generator object.\n",
    "\n",
    "model=ANN_Model()"
   ]
  },
  {
   "cell_type": "code",
   "execution_count": 10,
   "metadata": {},
   "outputs": [
    {
     "data": {
      "text/plain": [
       "<bound method Module.parameters of ANN_Model(\n",
       "  (f_connected1): Linear(in_features=8, out_features=20, bias=True)\n",
       "  (f_connected2): Linear(in_features=20, out_features=20, bias=True)\n",
       "  (out): Linear(in_features=20, out_features=2, bias=True)\n",
       ")>"
      ]
     },
     "execution_count": 10,
     "metadata": {},
     "output_type": "execute_result"
    }
   ],
   "source": [
    "model.parameters \n",
    "\n",
    "# Listing out the parameters in our model"
   ]
  },
  {
   "cell_type": "code",
   "execution_count": 11,
   "metadata": {},
   "outputs": [
    {
     "data": {
      "text/html": [
       "<div>\n",
       "<style scoped>\n",
       "    .dataframe tbody tr th:only-of-type {\n",
       "        vertical-align: middle;\n",
       "    }\n",
       "\n",
       "    .dataframe tbody tr th {\n",
       "        vertical-align: top;\n",
       "    }\n",
       "\n",
       "    .dataframe thead th {\n",
       "        text-align: right;\n",
       "    }\n",
       "</style>\n",
       "<table border=\"1\" class=\"dataframe\">\n",
       "  <thead>\n",
       "    <tr style=\"text-align: right;\">\n",
       "      <th></th>\n",
       "      <th>Pregnancies</th>\n",
       "      <th>Glucose</th>\n",
       "      <th>BloodPressure</th>\n",
       "      <th>SkinThickness</th>\n",
       "      <th>Insulin</th>\n",
       "      <th>BMI</th>\n",
       "      <th>DiabetesPedigreeFunction</th>\n",
       "      <th>Age</th>\n",
       "      <th>Outcome</th>\n",
       "    </tr>\n",
       "  </thead>\n",
       "  <tbody>\n",
       "    <tr>\n",
       "      <th>Pregnancies</th>\n",
       "      <td>1.000000</td>\n",
       "      <td>0.149243</td>\n",
       "      <td>0.214480</td>\n",
       "      <td>0.100303</td>\n",
       "      <td>0.177655</td>\n",
       "      <td>0.025047</td>\n",
       "      <td>-0.035167</td>\n",
       "      <td>0.543591</td>\n",
       "      <td>0.227399</td>\n",
       "    </tr>\n",
       "    <tr>\n",
       "      <th>Glucose</th>\n",
       "      <td>0.149243</td>\n",
       "      <td>1.000000</td>\n",
       "      <td>0.250534</td>\n",
       "      <td>0.224256</td>\n",
       "      <td>0.492494</td>\n",
       "      <td>0.229458</td>\n",
       "      <td>0.116333</td>\n",
       "      <td>0.281678</td>\n",
       "      <td>0.499351</td>\n",
       "    </tr>\n",
       "    <tr>\n",
       "      <th>BloodPressure</th>\n",
       "      <td>0.214480</td>\n",
       "      <td>0.250534</td>\n",
       "      <td>1.000000</td>\n",
       "      <td>0.198943</td>\n",
       "      <td>0.176725</td>\n",
       "      <td>0.239658</td>\n",
       "      <td>0.003443</td>\n",
       "      <td>0.337329</td>\n",
       "      <td>0.183760</td>\n",
       "    </tr>\n",
       "    <tr>\n",
       "      <th>SkinThickness</th>\n",
       "      <td>0.100303</td>\n",
       "      <td>0.224256</td>\n",
       "      <td>0.198943</td>\n",
       "      <td>1.000000</td>\n",
       "      <td>0.231907</td>\n",
       "      <td>0.500908</td>\n",
       "      <td>0.086265</td>\n",
       "      <td>0.139758</td>\n",
       "      <td>0.313537</td>\n",
       "    </tr>\n",
       "    <tr>\n",
       "      <th>Insulin</th>\n",
       "      <td>0.177655</td>\n",
       "      <td>0.492494</td>\n",
       "      <td>0.176725</td>\n",
       "      <td>0.231907</td>\n",
       "      <td>1.000000</td>\n",
       "      <td>0.223939</td>\n",
       "      <td>0.082843</td>\n",
       "      <td>0.229440</td>\n",
       "      <td>0.534620</td>\n",
       "    </tr>\n",
       "    <tr>\n",
       "      <th>BMI</th>\n",
       "      <td>0.025047</td>\n",
       "      <td>0.229458</td>\n",
       "      <td>0.239658</td>\n",
       "      <td>0.500908</td>\n",
       "      <td>0.223939</td>\n",
       "      <td>1.000000</td>\n",
       "      <td>0.140962</td>\n",
       "      <td>0.045299</td>\n",
       "      <td>0.299064</td>\n",
       "    </tr>\n",
       "    <tr>\n",
       "      <th>DiabetesPedigreeFunction</th>\n",
       "      <td>-0.035167</td>\n",
       "      <td>0.116333</td>\n",
       "      <td>0.003443</td>\n",
       "      <td>0.086265</td>\n",
       "      <td>0.082843</td>\n",
       "      <td>0.140962</td>\n",
       "      <td>1.000000</td>\n",
       "      <td>0.044233</td>\n",
       "      <td>0.183548</td>\n",
       "    </tr>\n",
       "    <tr>\n",
       "      <th>Age</th>\n",
       "      <td>0.543591</td>\n",
       "      <td>0.281678</td>\n",
       "      <td>0.337329</td>\n",
       "      <td>0.139758</td>\n",
       "      <td>0.229440</td>\n",
       "      <td>0.045299</td>\n",
       "      <td>0.044233</td>\n",
       "      <td>1.000000</td>\n",
       "      <td>0.232272</td>\n",
       "    </tr>\n",
       "    <tr>\n",
       "      <th>Outcome</th>\n",
       "      <td>0.227399</td>\n",
       "      <td>0.499351</td>\n",
       "      <td>0.183760</td>\n",
       "      <td>0.313537</td>\n",
       "      <td>0.534620</td>\n",
       "      <td>0.299064</td>\n",
       "      <td>0.183548</td>\n",
       "      <td>0.232272</td>\n",
       "      <td>1.000000</td>\n",
       "    </tr>\n",
       "  </tbody>\n",
       "</table>\n",
       "</div>"
      ],
      "text/plain": [
       "                          Pregnancies   Glucose  BloodPressure  SkinThickness  \\\n",
       "Pregnancies                  1.000000  0.149243       0.214480       0.100303   \n",
       "Glucose                      0.149243  1.000000       0.250534       0.224256   \n",
       "BloodPressure                0.214480  0.250534       1.000000       0.198943   \n",
       "SkinThickness                0.100303  0.224256       0.198943       1.000000   \n",
       "Insulin                      0.177655  0.492494       0.176725       0.231907   \n",
       "BMI                          0.025047  0.229458       0.239658       0.500908   \n",
       "DiabetesPedigreeFunction    -0.035167  0.116333       0.003443       0.086265   \n",
       "Age                          0.543591  0.281678       0.337329       0.139758   \n",
       "Outcome                      0.227399  0.499351       0.183760       0.313537   \n",
       "\n",
       "                           Insulin       BMI  DiabetesPedigreeFunction  \\\n",
       "Pregnancies               0.177655  0.025047                 -0.035167   \n",
       "Glucose                   0.492494  0.229458                  0.116333   \n",
       "BloodPressure             0.176725  0.239658                  0.003443   \n",
       "SkinThickness             0.231907  0.500908                  0.086265   \n",
       "Insulin                   1.000000  0.223939                  0.082843   \n",
       "BMI                       0.223939  1.000000                  0.140962   \n",
       "DiabetesPedigreeFunction  0.082843  0.140962                  1.000000   \n",
       "Age                       0.229440  0.045299                  0.044233   \n",
       "Outcome                   0.534620  0.299064                  0.183548   \n",
       "\n",
       "                               Age   Outcome  \n",
       "Pregnancies               0.543591  0.227399  \n",
       "Glucose                   0.281678  0.499351  \n",
       "BloodPressure             0.337329  0.183760  \n",
       "SkinThickness             0.139758  0.313537  \n",
       "Insulin                   0.229440  0.534620  \n",
       "BMI                       0.045299  0.299064  \n",
       "DiabetesPedigreeFunction  0.044233  0.183548  \n",
       "Age                       1.000000  0.232272  \n",
       "Outcome                   0.232272  1.000000  "
      ]
     },
     "execution_count": 11,
     "metadata": {},
     "output_type": "execute_result"
    }
   ],
   "source": [
    "df.corr()              \n",
    "\n",
    "# Co-relation of attributes is observed here\n",
    "\n",
    "# Feature Significance ... as we observe all features are necessary for prediction\n"
   ]
  },
  {
   "cell_type": "code",
   "execution_count": 12,
   "metadata": {},
   "outputs": [
    {
     "data": {
      "text/plain": [
       "<AxesSubplot:>"
      ]
     },
     "execution_count": 12,
     "metadata": {},
     "output_type": "execute_result"
    },
    {
     "data": {
      "image/png": "[encoded data removed]",
      "text/plain": [
       "<Figure size 432x288 with 2 Axes>"
      ]
     },
     "metadata": {
      "needs_background": "light"
     },
     "output_type": "display_data"
    }
   ],
   "source": [
    "# Digrammatic  representation - correlation of parameters\n",
    "\n",
    "sns.heatmap(df.corr())"
   ]
  },
  {
   "cell_type": "code",
   "execution_count": 13,
   "metadata": {},
   "outputs": [],
   "source": [
    "# Backward propagation ... loss_function and optimizer are defined\n",
    "\n",
    "loss_function=nn.CrossEntropyLoss()     #Cross-entropy is commonly used in machine learning as a loss function.\n",
    "\n",
    "# torch.optim is a package implementing various optimization algorithms\n",
    "\n",
    "optimizer=torch.optim.Adam(model.parameters(),lr=0.02)  # 'lr' denotes learning rate"
   ]
  },
  {
   "cell_type": "code",
   "execution_count": 14,
   "metadata": {},
   "outputs": [
    {
     "name": "stdout",
     "output_type": "stream",
     "text": [
      "Epoch number: 1 and the loss : 2.6238677501678467\n",
      "Epoch number: 101 and the loss : 0.45009782910346985\n",
      "Epoch number: 201 and the loss : 0.3828475773334503\n",
      "Epoch number: 301 and the loss : 0.33732980489730835\n",
      "Epoch number: 401 and the loss : 0.3064268231391907\n"
     ]
    }
   ],
   "source": [
    "# Epochs are number of times that learning algorithm will work through entire training dataset\n",
    "\n",
    "epochs=500\n",
    "\n",
    "final_losses=[]\n",
    "\n",
    "for i in range(epochs):\n",
    "    \n",
    "    i=i+1\n",
    "    \n",
    "    y_pred=model.forward(X_train)\n",
    "    \n",
    "    loss=loss_function(y_pred,y_train)\n",
    "    \n",
    "    final_losses.append(loss)\n",
    "    \n",
    "    if i%100==1:\n",
    "        \n",
    "        print(\"Epoch number: {} and the loss : {}\".format(i,loss.item()))\n",
    "        \n",
    "    optimizer.zero_grad()\n",
    "    \n",
    "    # Sets the gradients of all optimized torch\n",
    "    \n",
    "    loss.backward()\n",
    "    \n",
    "    # compute gradient of loss w.r.t all parameters in loss that have requires_grad = True &\n",
    "    \n",
    "    # store them in parameter\n",
    "    \n",
    "    optimizer.step()\n",
    "    \n",
    "    # Makes the optimizer iterate over all parameters (tensors) it is supposed to update &\n",
    "    \n",
    "    # Use their internally stored grad to update values"
   ]
  },
  {
   "cell_type": "code",
   "execution_count": 15,
   "metadata": {},
   "outputs": [],
   "source": [
    "# Prediction performed in X_test data\n",
    "\n",
    "predictions=[]\n",
    "\n",
    "with torch.no_grad():\n",
    "    \n",
    "    for i,data in enumerate(X_test):\n",
    "        \n",
    "        y_pred=model(data)\n",
    "        \n",
    "        predictions.append(y_pred.argmax().item())\n"
   ]
  },
  {
   "cell_type": "code",
   "execution_count": 16,
   "metadata": {},
   "outputs": [
    {
     "name": "stdout",
     "output_type": "stream",
     "text": [
      "[[178  22]\n",
      " [ 19  78]]\n"
     ]
    }
   ],
   "source": [
    "# Confusion Matrix\n",
    "\n",
    "from sklearn.metrics import confusion_matrix\n",
    "\n",
    "cm=confusion_matrix(y_test,predictions)\n",
    "\n",
    "# CM is also called as Error Matrix, which is summarised table to assess the performance of classification model\n",
    "\n",
    "print(cm)\n",
    "TP = cm[0][0]\n",
    "FP = cm[0][1]\n",
    "FN = cm[1][0]\n",
    "TN = cm[1][1]\n",
    "\n",
    "#   [[TP FP]\n",
    "#    [FN TN]] reprsents confusion matrix"
   ]
  },
  {
   "cell_type": "code",
   "execution_count": 17,
   "metadata": {
    "scrolled": true
   },
   "outputs": [
    {
     "data": {
      "text/plain": [
       "Text(69.0, 0.5, 'Predicted Values')"
      ]
     },
     "execution_count": 17,
     "metadata": {},
     "output_type": "execute_result"
    },
    {
     "data": {
      "image/png": "[encoded data removed]",
      "text/plain": [
       "<Figure size 720x432 with 2 Axes>"
      ]
     },
     "metadata": {
      "needs_background": "light"
     },
     "output_type": "display_data"
    }
   ],
   "source": [
    "import matplotlib.pyplot as plt\n",
    "\n",
    "plt.figure(figsize=(10,6))\n",
    "\n",
    "sns.heatmap(cm,annot=True)\n",
    "\n",
    "plt.xlabel('Actual Values')\n",
    "\n",
    "plt.ylabel('Predicted Values')"
   ]
  },
  {
   "cell_type": "code",
   "execution_count": 19,
   "metadata": {},
   "outputs": [
    {
     "data": {
      "text/plain": [
       "86.2"
      ]
     },
     "execution_count": 19,
     "metadata": {},
     "output_type": "execute_result"
    }
   ],
   "source": [
    "# Determining Accuracy using pre-defined function from scikit learn module\n",
    "\n",
    "from sklearn.metrics import accuracy_score\n",
    "\n",
    "score=accuracy_score(y_test,predictions)\n",
    "\n",
    "round(score * 100, 2)"
   ]
  },
  {
   "cell_type": "code",
   "execution_count": 20,
   "metadata": {},
   "outputs": [
    {
     "data": {
      "text/plain": [
       "<AxesSubplot:xlabel='Insulin'>"
      ]
     },
     "execution_count": 20,
     "metadata": {},
     "output_type": "execute_result"
    },
    {
     "data": {
      "image/png": "[encoded data removed]",
      "text/plain": [
       "<Figure size 432x288 with 1 Axes>"
      ]
     },
     "metadata": {
      "needs_background": "light"
     },
     "output_type": "display_data"
    }
   ],
   "source": [
    "sns.boxplot(x=df['Insulin'])\n",
    "\n",
    "# Boxplot to detect outliers\n",
    "\n",
    "# Boxplot summarizes sample data using 25th, 50th, and 75th percentiles"
   ]
  },
  {
   "cell_type": "code",
   "execution_count": 21,
   "metadata": {},
   "outputs": [
    {
     "name": "stdout",
     "output_type": "stream",
     "text": [
      "0      0.634056\n",
      "1      0.844478\n",
      "2      1.225470\n",
      "3      0.844478\n",
      "4      1.140185\n",
      "         ...   \n",
      "763    1.816884\n",
      "764    0.548771\n",
      "765    0.338349\n",
      "766    0.844478\n",
      "767    0.844478\n",
      "Name: Pregnancies, Length: 742, dtype: float64\n"
     ]
    }
   ],
   "source": [
    "# Z-Score (a numerical measurement that describes a value's relationship to the mean of a group of values)\n",
    "\n",
    "# It gives relative score between records in dataset & also referred as standard score\n",
    "\n",
    "from scipy import stats\n",
    "\n",
    "import numpy as np\n",
    " \n",
    "z = np.abs(stats.zscore(df['Pregnancies'])) # Zscore = (data_point - mean) / std. deviation\n",
    "\n",
    "print(z)"
   ]
  },
  {
   "cell_type": "code",
   "execution_count": 22,
   "metadata": {},
   "outputs": [],
   "source": [
    "# Saving our model to local disk\n",
    "\n",
    "model_scripted = torch.jit.script(model)\n",
    "\n",
    "model_scripted.save('model_scripted.pt')"
   ]
  },
  {
   "cell_type": "code",
   "execution_count": 23,
   "metadata": {},
   "outputs": [
    {
     "data": {
      "text/plain": [
       "RecursiveScriptModule(\n",
       "  original_name=ANN_Model\n",
       "  (f_connected1): RecursiveScriptModule(original_name=Linear)\n",
       "  (f_connected2): RecursiveScriptModule(original_name=Linear)\n",
       "  (out): RecursiveScriptModule(original_name=Linear)\n",
       ")"
      ]
     },
     "execution_count": 23,
     "metadata": {},
     "output_type": "execute_result"
    }
   ],
   "source": [
    "# Loading & Verifying attributes of model\n",
    "\n",
    "# Used to Load a ScriptModule or ScriptFunction previously saved with torch.jit.save\n",
    "\n",
    "model = torch.jit.load('model_scripted.pt') \n",
    "\n",
    "model.eval()"
   ]
  },
  {
   "cell_type": "code",
   "execution_count": 24,
   "metadata": {},
   "outputs": [],
   "source": [
    "# List of attribute values [ Pregnancies, Glucose, BloodPressure, SkinThickness, Insulin, BMI, DiabetesPedigreeFunction, Age ]\n",
    "\n",
    "lst1=[4, 98.0, 89.0, 89.0, 879.0, 9843.1, 3.288, 53.0]"
   ]
  },
  {
   "cell_type": "code",
   "execution_count": 25,
   "metadata": {},
   "outputs": [],
   "source": [
    "# Prediction for random data\n",
    "\n",
    "new_data=torch.tensor(lst1)"
   ]
  },
  {
   "cell_type": "code",
   "execution_count": 26,
   "metadata": {},
   "outputs": [
    {
     "name": "stdout",
     "output_type": "stream",
     "text": [
      "Diabetic (Positive)\n"
     ]
    }
   ],
   "source": [
    "# torch.no_grad() is used to perform inference without Gradient Calculation.\n",
    "# Also to make sure there's no leak test data into the model.\n",
    "\n",
    "with torch.no_grad():\n",
    "    if (model(new_data).argmax().item()):\n",
    "        print(\"Diabetic (Positive)\")\n",
    "    else:\n",
    "        print(\"Non-Diabetic (Negative)\")"
   ]
  },
  {
   "cell_type": "code",
   "execution_count": 27,
   "metadata": {},
   "outputs": [],
   "source": [
    "# Cleaned dataset is saved as .csv file in local disk\n",
    "\n",
    "df.to_csv('data_cleaned.csv')"
   ]
  },
  {
   "cell_type": "code",
   "execution_count": 28,
   "metadata": {},
   "outputs": [],
   "source": [
    "false_positive_rate = FP/(FP+TN)\n",
    "true_positive_rate = TP/(TP+FN)\n",
    "#print(false_positive_rate)\n",
    "#print(true_positive_rate)\n"
   ]
  },
  {
   "cell_type": "code",
   "execution_count": 40,
   "metadata": {},
   "outputs": [
    {
     "name": "stdout",
     "output_type": "stream",
     "text": [
      "AUC score is  0.8470618556701032\n"
     ]
    },
    {
     "data": {
      "image/png": "[encoded data removed]",
      "text/plain": [
       "<Figure size 432x288 with 1 Axes>"
      ]
     },
     "metadata": {
      "needs_background": "light"
     },
     "output_type": "display_data"
    }
   ],
   "source": [
    "import numpy as np\n",
    " \n",
    "from sklearn.metrics import roc_auc_score\n",
    "\n",
    "from sklearn import metrics\n",
    "\n",
    "import matplotlib.pyplot as plt\n",
    "\n",
    " \n",
    "auc = roc_auc_score(y_test,predictions)\n",
    " \n",
    "print(\"AUC score is \",auc)\n",
    "\n",
    "fpr, tpr, _ = metrics.roc_curve(y_test,  predictions)\n",
    "\n",
    "plt.plot(fpr,tpr)\n",
    "plt.ylabel('True Positive Rate')\n",
    "plt.xlabel('False Positive Rate')\n",
    "plt.show()"
   ]
  },
  {
   "cell_type": "code",
   "execution_count": null,
   "metadata": {},
   "outputs": [],
   "source": [
    "\n"
   ]
  }
 ],
 "metadata": {
  "kernelspec": {
   "display_name": "Python 3 (ipykernel)",
   "language": "python",
   "name": "python3"
  },
  "language_info": {
   "codemirror_mode": {
    "name": "ipython",
    "version": 3
   },
   "file_extension": ".py",
   "mimetype": "text/x-python",
   "name": "python",
   "nbconvert_exporter": "python",
   "pygments_lexer": "ipython3",
   "version": "3.9.7"
  }
 },
 "nbformat": 4,
 "nbformat_minor": 4
}
